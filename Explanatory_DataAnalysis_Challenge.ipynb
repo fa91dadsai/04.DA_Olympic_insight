{
 "cells": [
  {
   "cell_type": "markdown",
   "metadata": {},
   "source": [
    "# Explanatory Data Analysis Challenge (Olympic Games)"
   ]
  },
  {
   "cell_type": "markdown",
   "metadata": {},
   "source": [
    "## Data Import and Inspection"
   ]
  },
  {
   "cell_type": "markdown",
   "metadata": {},
   "source": [
    "Import the Datasets Summer (__summer.csv__), Winter (__winter.csv__) and dictionary (__dictionary.csv__) and Inspect! "
   ]
  },
  {
   "cell_type": "code",
   "execution_count": 1,
   "metadata": {},
   "outputs": [],
   "source": [
    "import pandas as pd\n",
    "import numpy as np\n",
    "import matplotlib.pyplot as plt\n",
    "import seaborn as sns\n",
    "import random"
   ]
  },
  {
   "cell_type": "code",
   "execution_count": 2,
   "metadata": {},
   "outputs": [],
   "source": [
    "summer=pd.read_csv(\"summer.csv\")\n",
    "winter =pd.read_csv(\"winter.csv\")\n",
    "dic=pd.read_csv(\"dictionary.csv\")"
   ]
  },
  {
   "cell_type": "code",
   "execution_count": 3,
   "metadata": {},
   "outputs": [],
   "source": [
    "summer.head()"
   ]
  },
  {
   "cell_type": "code",
   "execution_count": 4,
   "metadata": {},
   "outputs": [],
   "source": [
    "winter.head()"
   ]
  },
  {
   "cell_type": "code",
   "execution_count": 5,
   "metadata": {},
   "outputs": [],
   "source": [
    "dic"
   ]
  },
  {
   "cell_type": "code",
   "execution_count": 6,
   "metadata": {},
   "outputs": [],
   "source": [
    "# What GDP means?\n",
    "# Gross domestic product\n",
    "# Gross domestic product (GDP) is the standard measure of the value added created through the production of\n",
    "# goods and services in a country during a certain period. As such, it also measures the income earned from \n",
    "# that production, or the total amount spent on final goods and services (less imports)\n",
    "# أجمالي الناتج المحلي"
   ]
  },
  {
   "cell_type": "code",
   "execution_count": 7,
   "metadata": {},
   "outputs": [],
   "source": [
    "# population عدد السكان في الدولة"
   ]
  },
  {
   "cell_type": "code",
   "execution_count": null,
   "metadata": {},
   "outputs": [],
   "source": []
  },
  {
   "cell_type": "markdown",
   "metadata": {},
   "source": [
    "## Merging and Concatenating"
   ]
  },
  {
   "cell_type": "markdown",
   "metadata": {},
   "source": [
    "1. __Merge__ Summer and Winter (one row for each Medal awarded in any Olympic Games) and save the merged DataFrame in __olympics__. \n",
    "2. An __additional column__ (e.g. \"Edition\") shall indicate the Edition -> __Summer or Winter__.\n",
    "3. Add the __full Country name__ from dictionary to olympics (e.g. France for FRA)."
   ]
  },
  {
   "cell_type": "code",
   "execution_count": null,
   "metadata": {},
   "outputs": [],
   "source": []
  },
  {
   "cell_type": "code",
   "execution_count": 8,
   "metadata": {},
   "outputs": [],
   "source": [
    "olympic = pd.concat([summer,winter],keys=[\"summer\",\"winter\"],names=[\"Edition\"])"
   ]
  },
  {
   "cell_type": "code",
   "execution_count": 9,
   "metadata": {},
   "outputs": [],
   "source": [
    "olympic.reset_index(inplace=True)"
   ]
  },
  {
   "cell_type": "code",
   "execution_count": 10,
   "metadata": {},
   "outputs": [],
   "source": [
    "olympic.head()"
   ]
  },
  {
   "cell_type": "code",
   "execution_count": 11,
   "metadata": {},
   "outputs": [],
   "source": [
    "# rename the country column to Code \n",
    "# drop column level_1 ,this one come from index\n",
    "olympic.rename(columns={\"Country\":\"Code\"},inplace=True)\n",
    "olympic.drop(columns=[\"level_1\"],inplace=True)"
   ]
  },
  {
   "cell_type": "code",
   "execution_count": 12,
   "metadata": {},
   "outputs": [],
   "source": [
    "# meerge the olympic with dic to get the Country name by Code\n",
    "olympic = olympic.merge(dic.iloc[:,:2],how=\"left\",on=\"Code\")"
   ]
  },
  {
   "cell_type": "code",
   "execution_count": 13,
   "metadata": {},
   "outputs": [],
   "source": [
    "olympic"
   ]
  },
  {
   "cell_type": "code",
   "execution_count": 14,
   "metadata": {},
   "outputs": [],
   "source": [
    "# handeling Null Value\n",
    "olympic.isna().sum()"
   ]
  },
  {
   "cell_type": "code",
   "execution_count": 15,
   "metadata": {
    "scrolled": true
   },
   "outputs": [],
   "source": [
    "missing_value= olympic.isna().any(axis=1)\n",
    "missing_value"
   ]
  },
  {
   "cell_type": "code",
   "execution_count": 16,
   "metadata": {},
   "outputs": [],
   "source": [
    "olympic[missing_value].Code.unique()"
   ]
  },
  {
   "cell_type": "code",
   "execution_count": 17,
   "metadata": {},
   "outputs": [],
   "source": [
    "olympic[missing_value]"
   ]
  },
  {
   "cell_type": "code",
   "execution_count": 18,
   "metadata": {},
   "outputs": [],
   "source": [
    "codes_to_country = {'URS': 'Soviet Union',\n",
    " 'GDR': 'East Germany',\n",
    " 'ROU': 'Romania',\n",
    " 'FRG': 'West Germany',\n",
    " 'TCH': 'Czechoslovakia',\n",
    " 'YUG': 'Yugoslavia',\n",
    " 'EUN': 'Unified Team',\n",
    " 'EUA': 'Unified Team of Germany',\n",
    " 'ZZX': 'Mixed teams',\n",
    " 'SRB': 'Serbia',\n",
    " 'ANZ': 'Australasia',\n",
    " 'RU1': 'Russian Empire',\n",
    " 'MNE': 'Montenegro',\n",
    " 'TTO': 'Trinidad and Tobago',\n",
    " 'BOH': 'Bohemia',\n",
    " 'BWI': 'West Indies Federation',\n",
    " 'SGP': 'Singapore',\n",
    " 'IOP': 'Independent Olympic Participants'}"
   ]
  },
  {
   "cell_type": "code",
   "execution_count": 19,
   "metadata": {},
   "outputs": [],
   "source": [
    "# Use the map function to replace 'Country' based on 'Code', keeping the same code if not found\n",
    "olympic[\"Country\"]=olympic[\"Code\"].map(codes_to_country).fillna(olympic[\"Country\"])\n"
   ]
  },
  {
   "cell_type": "code",
   "execution_count": 20,
   "metadata": {},
   "outputs": [],
   "source": [
    "olympic[missing_value]"
   ]
  },
  {
   "cell_type": "code",
   "execution_count": 21,
   "metadata": {},
   "outputs": [],
   "source": [
    "missing_value =olympic[olympic.isna().any(axis=1)]"
   ]
  },
  {
   "cell_type": "code",
   "execution_count": 22,
   "metadata": {},
   "outputs": [],
   "source": [
    "missing_value"
   ]
  },
  {
   "cell_type": "code",
   "execution_count": 23,
   "metadata": {},
   "outputs": [],
   "source": [
    "olympic.info()"
   ]
  },
  {
   "cell_type": "code",
   "execution_count": 24,
   "metadata": {},
   "outputs": [],
   "source": [
    "olympic.isna().any(axis=1).sum()"
   ]
  },
  {
   "cell_type": "code",
   "execution_count": 25,
   "metadata": {},
   "outputs": [],
   "source": [
    "# we have 4 row there is no code,country vale , we can drop it\n",
    "# Drop columns with any null values\n",
    "olympic.dropna(inplace=True)"
   ]
  },
  {
   "cell_type": "code",
   "execution_count": null,
   "metadata": {},
   "outputs": [],
   "source": []
  },
  {
   "cell_type": "code",
   "execution_count": 26,
   "metadata": {},
   "outputs": [],
   "source": [
    "olympic.sample(20)"
   ]
  },
  {
   "cell_type": "code",
   "execution_count": 27,
   "metadata": {},
   "outputs": [],
   "source": [
    "dic[\"Code\"].unique()"
   ]
  },
  {
   "cell_type": "code",
   "execution_count": 28,
   "metadata": {},
   "outputs": [],
   "source": [
    "summer[\"Country\"].sort_values().unique()"
   ]
  },
  {
   "cell_type": "code",
   "execution_count": 29,
   "metadata": {},
   "outputs": [],
   "source": [
    "dic"
   ]
  },
  {
   "cell_type": "code",
   "execution_count": 30,
   "metadata": {},
   "outputs": [],
   "source": [
    "# merge olympic with dic to add population ,and GDP by country Code\n",
    "olympic = olympic.merge(dic.iloc[:,1:],how=\"left\",on=\"Code\")"
   ]
  },
  {
   "cell_type": "code",
   "execution_count": 31,
   "metadata": {},
   "outputs": [],
   "source": [
    "olympic.sample(20)"
   ]
  },
  {
   "cell_type": "code",
   "execution_count": 32,
   "metadata": {},
   "outputs": [],
   "source": [
    "# handeling Null Value\n",
    "missing_Popu = olympic[olympic.isna().any(axis=1)]"
   ]
  },
  {
   "cell_type": "code",
   "execution_count": 33,
   "metadata": {},
   "outputs": [],
   "source": [
    "missing_Popu"
   ]
  },
  {
   "cell_type": "code",
   "execution_count": 34,
   "metadata": {},
   "outputs": [],
   "source": [
    "# search for the population and GDP for each country in the same year if you can find it\n",
    "# i search on web by helping from chatGPT and Bard to find some Data for that country in that Year"
   ]
  },
  {
   "cell_type": "code",
   "execution_count": 35,
   "metadata": {},
   "outputs": [],
   "source": [
    "missing_Popu[[\"Year\",\"Country\"]].set_index(\"Country\").to_dict()"
   ]
  },
  {
   "cell_type": "code",
   "execution_count": 36,
   "metadata": {},
   "outputs": [],
   "source": [
    "dic"
   ]
  },
  {
   "cell_type": "code",
   "execution_count": 37,
   "metadata": {},
   "outputs": [],
   "source": [
    "# i get the population and GDP per capita but i have two resoucse for this data set for GDP\n",
    "# first source for GDP form the World Bank \n",
    "# second source for GDP from IMF data \n",
    "# the differences are relatively small\n",
    "# so i will get some data from my dic dataset to compare it with that to sourse to see which one can i use"
   ]
  },
  {
   "cell_type": "code",
   "execution_count": 38,
   "metadata": {},
   "outputs": [],
   "source": [
    "# get 5 sample data \n",
    "sample_dic=dic[[\"Country\",\"GDP per Capita\"]].sample(n=10,random_state=91).dropna()\n",
    "sample_dic.set_index(\"Country\",inplace=True)\n",
    "sample_dic"
   ]
  },
  {
   "cell_type": "code",
   "execution_count": 39,
   "metadata": {},
   "outputs": [],
   "source": [
    "# transfer the data for dictionary\n",
    "sample_dic= sample_dic.to_dict()"
   ]
  },
  {
   "cell_type": "code",
   "execution_count": 40,
   "metadata": {},
   "outputs": [],
   "source": [
    "sample_dic"
   ]
  },
  {
   "cell_type": "code",
   "execution_count": 41,
   "metadata": {},
   "outputs": [],
   "source": [
    "# remove the null value"
   ]
  },
  {
   "cell_type": "code",
   "execution_count": 42,
   "metadata": {},
   "outputs": [],
   "source": [
    "olympic[olympic.Country == \"Malaysia\"]"
   ]
  },
  {
   "cell_type": "code",
   "execution_count": 43,
   "metadata": {},
   "outputs": [],
   "source": [
    "# after we search for the missing data for populatin and GDP by helping from Bard and chatGPT\n",
    "# we find that data and save it in missing_popu_gdp.csv"
   ]
  },
  {
   "cell_type": "code",
   "execution_count": 44,
   "metadata": {},
   "outputs": [],
   "source": [
    "missing_popu_gdp=pd.read_csv(\"missing_popu_gdp.csv\")\n",
    "missing_popu_gdp"
   ]
  },
  {
   "cell_type": "code",
   "execution_count": 45,
   "metadata": {},
   "outputs": [],
   "source": [
    "missing_popu_gdp.drop(columns=[\"Population (in millions)\",\"GDP per capita (in USD)\",\"Year\"],inplace=True)"
   ]
  },
  {
   "cell_type": "code",
   "execution_count": 46,
   "metadata": {},
   "outputs": [],
   "source": [
    "missing_popu_gdp"
   ]
  },
  {
   "cell_type": "code",
   "execution_count": 47,
   "metadata": {},
   "outputs": [],
   "source": [
    "# missing population\n",
    "missing_popu= missing_popu_gdp[[\"Country\",\"World Bank's World Development\"]]\n",
    "missing_popu.set_index(\"Country\",inplace=True)\n",
    "country_to_popu_dic = missing_popu.to_dict()[\"World Bank's World Development\"]\n",
    "country_to_popu_dic"
   ]
  },
  {
   "cell_type": "code",
   "execution_count": 48,
   "metadata": {},
   "outputs": [],
   "source": [
    "# now we need to map in olympic to fill the null value\n",
    "# Use the map function to replace 'Population' based on 'Country', keeping the same code if not found\n",
    "olympic[\"Population\"]=olympic[\"Country\"].map(country_to_popu_dic).fillna(olympic[\"Population\"])\n",
    "olympic"
   ]
  },
  {
   "cell_type": "code",
   "execution_count": 49,
   "metadata": {},
   "outputs": [],
   "source": [
    "olympic[olympic[\"Population\"].isna()]\n",
    "# we minmuze the null value from 6974 to 692 rows around X10"
   ]
  },
  {
   "cell_type": "code",
   "execution_count": 50,
   "metadata": {},
   "outputs": [],
   "source": [
    "# we will do the same for GDP per capita\n",
    "# missing GDP\n",
    "missing_gdp= missing_popu_gdp[[\"Country\",\"IMF's World Economic Outlook\"]]\n",
    "missing_gdp.set_index(\"Country\",inplace=True)\n",
    "country_to_gdp_dic = missing_gdp.to_dict()[\"IMF's World Economic Outlook\"]\n",
    "country_to_gdp_dic\n"
   ]
  },
  {
   "cell_type": "code",
   "execution_count": 51,
   "metadata": {},
   "outputs": [],
   "source": [
    "# now we need to map in olympic to fill the null value\n",
    "# Use the map function to replace 'Population' based on 'Country', keeping the same code if not found\n",
    "olympic[\"GDP per Capita\"]=olympic[\"Country\"].map(country_to_gdp_dic).fillna(olympic[\"GDP per Capita\"])\n",
    "olympic"
   ]
  },
  {
   "cell_type": "code",
   "execution_count": 52,
   "metadata": {},
   "outputs": [],
   "source": [
    "olympic[olympic[\"GDP per Capita\"].isna()]\n",
    "# we minmuze the null value from 6974 to 692 rows around X10"
   ]
  },
  {
   "cell_type": "code",
   "execution_count": 53,
   "metadata": {},
   "outputs": [],
   "source": [
    "olympic[olympic[\"GDP per Capita\"].isna()][\"Country\"].unique()"
   ]
  },
  {
   "cell_type": "markdown",
   "metadata": {},
   "source": [
    "##### The ZZX code in Olympic meaning is the Mixed team or Mixed NOC (National Olympic Committee) Team. It is an Olympic code used to represent mixed teams or teams from multiple NOCs that compete together in a single event. Mixed teams are becoming increasingly common in the Olympics, as they promote inclusion and diversity.\n",
    "\n",
    "##### The ZZX code is used in the Olympic results database to identify mixed teams. It is also used in the Olympic opening ceremony, where mixed teams march under the Olympic flag.\n",
    "\n",
    "##### Here are some examples of mixed team events in the Olympics:\n",
    "\n",
    "##### * Mixed team biathlon relay\n",
    "##### * Mixed team curling\n",
    "#### * Mixed team cross-country skiing relay\n",
    "#### * Mixed team luge doubles\n",
    "#### * Mixed team ski jumping\n",
    "#### * Mixed team snowboarding team cross\n",
    "\n",
    "#### The ZZX code is a symbol of the Olympic spirit of unity and cooperation. It is a reminder that the Olympics are about more than just winning and losing. They are also about bringing people together from all over the world to compete in a spirit of friendship and sportsmanship."
   ]
  },
  {
   "cell_type": "code",
   "execution_count": 54,
   "metadata": {},
   "outputs": [],
   "source": [
    "# رمز ZZX بالمعنى الأولمبي هو الفريق المختلط أو فريق NOC المختلط (اللجنة الأولمبية الوطنية). إنه رمز أولمبي يستخدم لتمثيل فرق مختلطة أو فرق من عدة لجان أولمبية وطنية تتنافس معًا في حدث واحد. أصبحت الفرق المختلطة شائعة بشكل متزايد في الألعاب الأولمبية، لأنها تعزز الاندماج والتنوع.\n",
    "\n",
    "# يتم استخدام رمز ZZX في قاعدة بيانات النتائج الأولمبية لتحديد الفرق المختلطة. كما أنها تستخدم في حفل الافتتاح الأولمبي، حيث تسير الفرق المختلطة تحت العلم الأولمبي.\n",
    "\n",
    "# فيما يلي بعض الأمثلة على أحداث الفرق المختلطة في الألعاب الأولمبية:\n",
    "\n",
    "# * تتابع البياتلون المختلط\n",
    "# * الكيرلنج الجماعي المختلط\n",
    "# * فريق مختلط للتزلج الريفي على الثلج\n",
    "# * الزحافات الكبيرة للفريق المختلط\n",
    "# * القفز على الجليد لفريق مختلط\n",
    "# * فريق مختلط للتزلج على الجليد\n",
    "\n",
    "# رمز ZZX هو رمز للروح الأولمبية للوحدة والتعاون. إنه تذكير بأن الألعاب الأولمبية لا تقتصر على الفوز والخسارة. إنها تهدف أيضًا إلى جمع الناس معًا من جميع أنحاء العالم للتنافس بروح الصداقة والروح الرياضية."
   ]
  },
  {
   "cell_type": "code",
   "execution_count": 55,
   "metadata": {},
   "outputs": [],
   "source": [
    "# our propus in this data analysis to show which country the best and here we have Mixed-team\n",
    "# se we can drop to have less null rows in pouplation and GDP per capita\n",
    "mixed_team = olympic[olympic[\"Country\"]== \"Mixed teams\"].index"
   ]
  },
  {
   "cell_type": "code",
   "execution_count": 56,
   "metadata": {},
   "outputs": [],
   "source": [
    "olympic.drop(index=mixed_team,inplace=True)"
   ]
  },
  {
   "cell_type": "code",
   "execution_count": 57,
   "metadata": {},
   "outputs": [],
   "source": [
    "olympic[olympic[\"GDP per Capita\"].isna()]"
   ]
  },
  {
   "cell_type": "code",
   "execution_count": 58,
   "metadata": {},
   "outputs": [],
   "source": [
    "# Independent Olympic Participants (IOP) is a term used to describe athletes who compete at the Olympic Games\n",
    "# but are not part of a National Olympic Committee (NOC). This can happen for a variety of reasons.\n",
    "# we can drop it"
   ]
  },
  {
   "cell_type": "code",
   "execution_count": null,
   "metadata": {},
   "outputs": [],
   "source": []
  },
  {
   "cell_type": "code",
   "execution_count": 59,
   "metadata": {},
   "outputs": [],
   "source": [
    "Independent_Olympic_Participants = olympic[olympic[\"Country\"]== \"Independent Olympic Participants\"]\n",
    "Independent_Olympic_Participants"
   ]
  },
  {
   "cell_type": "code",
   "execution_count": 60,
   "metadata": {},
   "outputs": [],
   "source": [
    "olympic.drop(index=Independent_Olympic_Participants.index,inplace=True)"
   ]
  },
  {
   "cell_type": "code",
   "execution_count": 61,
   "metadata": {},
   "outputs": [],
   "source": [
    "olympic[olympic[\"Country\"]== \"Independent Olympic Participants\"]"
   ]
  },
  {
   "cell_type": "code",
   "execution_count": 62,
   "metadata": {},
   "outputs": [],
   "source": [
    "olympic[olympic[\"GDP per Capita\"].isna()]"
   ]
  },
  {
   "cell_type": "code",
   "execution_count": 63,
   "metadata": {},
   "outputs": [],
   "source": [
    "grouped_data=olympic.groupby([\"Edition\",\"Country\",\"Gender\"])[[\"Medal\",\"Population\",\"GDP per Capita\"]]\n",
    "grouped_data= grouped_data.agg({\"Medal\":\"count\",\"Population\":\"first\",\"GDP per Capita\":\"first\"})\n",
    "grouped_data=grouped_data.reset_index().sort_values(ascending=False,by=[\"Edition\",\"Medal\",\"Population\"])\n",
    "grouped_data"
   ]
  },
  {
   "cell_type": "code",
   "execution_count": 64,
   "metadata": {},
   "outputs": [],
   "source": [
    "top5_summer_edition = grouped_data[grouped_data[\"Edition\"]== \"summer\"].sort_values(ascending=False,by=\"Medal\").head(5)\n",
    "top5_winter_edition = grouped_data[grouped_data[\"Edition\"]== \"winter\"].sort_values(ascending=False,by=\"Medal\").head(5)"
   ]
  },
  {
   "cell_type": "code",
   "execution_count": 65,
   "metadata": {},
   "outputs": [],
   "source": [
    "top5 = pd.concat([top5_summer_edition,top5_winter_edition])\n",
    "top5"
   ]
  },
  {
   "cell_type": "code",
   "execution_count": null,
   "metadata": {},
   "outputs": [],
   "source": []
  },
  {
   "cell_type": "markdown",
   "metadata": {},
   "source": [
    "# what are  the most  10 country successful of  all  time ?"
   ]
  },
  {
   "cell_type": "code",
   "execution_count": 66,
   "metadata": {},
   "outputs": [],
   "source": [
    "olympic"
   ]
  },
  {
   "cell_type": "code",
   "execution_count": 67,
   "metadata": {},
   "outputs": [],
   "source": [
    "top_10_country = olympic.Country.value_counts().head(10)"
   ]
  },
  {
   "cell_type": "code",
   "execution_count": 68,
   "metadata": {},
   "outputs": [],
   "source": [
    "top_10_country"
   ]
  },
  {
   "cell_type": "code",
   "execution_count": 69,
   "metadata": {},
   "outputs": [],
   "source": [
    "top_10_country.plot(kind=\"bar\",figsize=(16,6),fontsize=15)\n",
    "plt.title(\"Top 10 Successful Country of all time\",fontsize=15)\n",
    "plt.ylabel(\"Medals\",fontsize=14)\n",
    "plt.show()"
   ]
  },
  {
   "cell_type": "code",
   "execution_count": 70,
   "metadata": {},
   "outputs": [],
   "source": [
    "top_10_country.index"
   ]
  },
  {
   "cell_type": "code",
   "execution_count": 71,
   "metadata": {},
   "outputs": [],
   "source": [
    "olympics_10=olympic[olympic.Country.isin(top_10_country.index)]\n",
    "olympics_10"
   ]
  },
  {
   "cell_type": "code",
   "execution_count": 72,
   "metadata": {},
   "outputs": [],
   "source": [
    "plt.figure(figsize=(16,6))\n",
    "sns.set(font_scale=1.2,palette=\"dark\")\n",
    "sns.countplot(data=olympics_10 , x=\"Country\")\n",
    "plt.title(\"Top 10 Successful Country\")\n",
    "plt.show()"
   ]
  },
  {
   "cell_type": "code",
   "execution_count": 73,
   "metadata": {},
   "outputs": [],
   "source": [
    "# sort the country from high to low \n",
    "# order=[\"a\",\"b\", .....] order=['United States', 'Soviet Union', 'United Kingdom', 'Germany', 'France',\n",
    "#        'Italy', 'Sweden', 'Canada', 'Australia', 'Hungary']\n",
    "plt.figure(figsize=(16,6))\n",
    "sns.set(font_scale=1.2,palette=\"dark\")\n",
    "sns.countplot(data=olympics_10 , x=\"Country\",order=top_10_country.index)\n",
    "plt.title(\"Top 10 Successful Country\")\n",
    "plt.savefig(\"Top_10_country.png\")\n",
    "plt.show()"
   ]
  },
  {
   "cell_type": "code",
   "execution_count": 74,
   "metadata": {},
   "outputs": [],
   "source": [
    "# we want to see the country in the two Edition (summer,winter)\n",
    "#  by hue=\"Edition\" it will show two bar for each country (summer,winter)\n",
    "plt.figure(figsize=(16,6))\n",
    "sns.set(font_scale=1.2,palette=\"dark\")\n",
    "sns.countplot(data=olympics_10 , x=\"Country\",hue=\"Edition\",order=top_10_country.index)\n",
    "plt.title(\"Top 10 Successful Country\")\n",
    "plt.show()"
   ]
  },
  {
   "cell_type": "code",
   "execution_count": 75,
   "metadata": {},
   "outputs": [],
   "source": [
    "# we can see there are country it better in summer edition for winter edition (United States , Soviet Union m ...)\n",
    "# some country the same in summere , winter like Canada\n",
    "# some country there are not succesful in winter like ( Australia , Hungary)"
   ]
  },
  {
   "cell_type": "code",
   "execution_count": 76,
   "metadata": {},
   "outputs": [],
   "source": [
    "# we want to switch the Country and Edition\n",
    "# to see each edition alone x=\"Edition\"  , hue=\"Country\"\n",
    "# and to keep the country sorted we will use hue_order=top_10_country.index beacuse the country now hue\n",
    "plt.figure(figsize=(16,6))\n",
    "sns.set(font_scale=1.2,palette=\"dark\")\n",
    "sns.countplot(data=olympics_10 , x=\"Edition\",hue=\"Country\",hue_order=top_10_country.index)\n",
    "plt.title(\"Top 10 Successful Country\")\n",
    "plt.show()"
   ]
  },
  {
   "cell_type": "code",
   "execution_count": 77,
   "metadata": {},
   "outputs": [],
   "source": [
    "# top 10 successful country with Medal\n",
    "plt.figure(figsize=(16,6))\n",
    "sns.set(font_scale=1.2 , palette=\"dark\")\n",
    "sns.countplot(data=olympics_10 , x=\"Country\",hue=\"Medal\",hue_order=[\"Gold\",\"Silver\",\"Bronze\"],\n",
    "             palette=[\"gold\",\"silver\",\"brown\"],order=top_10_country.index)\n",
    "plt.title(\"Top 10 Country\",fontsize=15)\n",
    "plt.savefig(\"top10_with_medals\")\n",
    "plt.show()"
   ]
  },
  {
   "cell_type": "code",
   "execution_count": 78,
   "metadata": {},
   "outputs": [],
   "source": [
    "# switch country and Medal\n",
    "plt.figure(figsize=(16,6))\n",
    "sns.set(font_scale=1.2 , palette=\"dark\")\n",
    "sns.countplot(data=olympics_10 , x=\"Medal\",hue=\"Country\",order=[\"Gold\",\"Silver\",\"Bronze\"],hue_order=top_10_country.index)\n",
    "plt.title(\"Top 10 Country\",fontsize=15)\n",
    "plt.savefig(\"top10_by_medals\")\n",
    "plt.show()"
   ]
  },
  {
   "cell_type": "markdown",
   "metadata": {},
   "source": [
    "# Do GDP and  Population are matter ?"
   ]
  },
  {
   "cell_type": "code",
   "execution_count": 79,
   "metadata": {},
   "outputs": [],
   "source": [
    "olympic"
   ]
  },
  {
   "cell_type": "code",
   "execution_count": 80,
   "metadata": {},
   "outputs": [],
   "source": [
    "medal_per_country = olympic.groupby([\"Country\",\"Medal\"]).Medal.count().unstack(fill_value=0)\n",
    "medal_per_country = medal_per_country.sort_values(by=[\"Gold\",\"Silver\",\"Bronze\"],ascending=False)\n",
    "medal_per_country=medal_per_country[[\"Gold\",\"Silver\",\"Bronze\"]]\n",
    "medal_per_country[\"Total\"]= medal_per_country.sum(axis=1)\n",
    "medal_per_country_50=medal_per_country.head(50)\n",
    "medal_per_country_50"
   ]
  },
  {
   "cell_type": "code",
   "execution_count": 81,
   "metadata": {},
   "outputs": [],
   "source": [
    "medal_per_country"
   ]
  },
  {
   "cell_type": "code",
   "execution_count": 82,
   "metadata": {},
   "outputs": [],
   "source": [
    "pouplation_GDP = olympic[[\"Country\",\"Population\",\"GDP per Capita\"]].drop_duplicates()"
   ]
  },
  {
   "cell_type": "code",
   "execution_count": 83,
   "metadata": {},
   "outputs": [],
   "source": [
    "pouplation_GDP"
   ]
  },
  {
   "cell_type": "code",
   "execution_count": 84,
   "metadata": {},
   "outputs": [],
   "source": [
    "medal_per_country_50 = medal_per_country.merge(pouplation_GDP, how =\"left\",on=\"Country\").set_index(\"Country\")"
   ]
  },
  {
   "cell_type": "code",
   "execution_count": 85,
   "metadata": {},
   "outputs": [],
   "source": [
    "medal_per_country_50"
   ]
  },
  {
   "cell_type": "code",
   "execution_count": 86,
   "metadata": {},
   "outputs": [],
   "source": [
    "# we need to see how many unique game there is\n",
    "olympic.nunique()"
   ]
  },
  {
   "cell_type": "code",
   "execution_count": 87,
   "metadata": {},
   "outputs": [],
   "source": [
    "# some city host the games more thant one\n",
    "# so we will make unique game by merge year and city in new column call Games\n",
    "olympic[\"Game\"]= olympic.apply(lambda x :str(x.Year) +\" \"+ x.City,axis=1)"
   ]
  },
  {
   "cell_type": "code",
   "execution_count": 88,
   "metadata": {},
   "outputs": [],
   "source": [
    "olympic"
   ]
  },
  {
   "cell_type": "code",
   "execution_count": 89,
   "metadata": {},
   "outputs": [],
   "source": [
    "olympic[\"Game\"].nunique()"
   ]
  },
  {
   "cell_type": "code",
   "execution_count": 90,
   "metadata": {},
   "outputs": [],
   "source": [
    "# we have 49 unique games\n",
    "# we will count the number of Medal in each game by counting each game we can know how many medal for each\n",
    "olympic[\"Game\"].value_counts()"
   ]
  },
  {
   "cell_type": "code",
   "execution_count": 91,
   "metadata": {},
   "outputs": [],
   "source": [
    "# count each country how many games they play\n",
    "# by group the country and then see how many unique olympic Game they paly\n",
    "olympic.groupby(\"Country\").apply(lambda x :x.Game.nunique())"
   ]
  },
  {
   "cell_type": "code",
   "execution_count": 92,
   "metadata": {},
   "outputs": [],
   "source": [
    "# add the total of unique olympic gmae to our DataFrame medal_per_country\n",
    "medal_per_country_50[\"Total_Games\"]=olympic.groupby(\"Country\").apply(lambda x : x.Game.nunique())"
   ]
  },
  {
   "cell_type": "code",
   "execution_count": 93,
   "metadata": {},
   "outputs": [],
   "source": [
    "medal_per_country_50"
   ]
  },
  {
   "cell_type": "code",
   "execution_count": 94,
   "metadata": {},
   "outputs": [],
   "source": [
    "medal_per_country_50.rank(ascending=False)"
   ]
  },
  {
   "cell_type": "code",
   "execution_count": 95,
   "metadata": {},
   "outputs": [],
   "source": [
    "medal_per_country.head(5)"
   ]
  },
  {
   "cell_type": "code",
   "execution_count": null,
   "metadata": {},
   "outputs": [],
   "source": []
  },
  {
   "cell_type": "code",
   "execution_count": null,
   "metadata": {},
   "outputs": [],
   "source": []
  },
  {
   "cell_type": "markdown",
   "metadata": {},
   "source": [
    "# the corrlation between the columns"
   ]
  },
  {
   "cell_type": "code",
   "execution_count": 96,
   "metadata": {},
   "outputs": [],
   "source": [
    "# we need to see the corrolation between the column for all the country \n",
    "#  drop the column (Gold , Silver, Bronze) just we need the total to compaire it with other\n",
    "medal_per_country.drop(columns=[\"Gold\",\"Silver\",\"Bronze\"],inplace=True)"
   ]
  },
  {
   "cell_type": "code",
   "execution_count": 97,
   "metadata": {},
   "outputs": [],
   "source": [
    "medal_per_country.head(5)"
   ]
  },
  {
   "cell_type": "code",
   "execution_count": 98,
   "metadata": {},
   "outputs": [],
   "source": [
    "medal_per_country.info()"
   ]
  },
  {
   "cell_type": "code",
   "execution_count": 99,
   "metadata": {},
   "outputs": [],
   "source": [
    "# merge the medal per country with Population and GDP per capita\n",
    "medal_per_country = medal_per_country.merge(pouplation_GDP, how =\"left\",on=\"Country\").set_index(\"Country\")"
   ]
  },
  {
   "cell_type": "code",
   "execution_count": 100,
   "metadata": {},
   "outputs": [],
   "source": [
    "# add the total of unique olympic gmae to our DataFrame medal_per_country\n",
    "medal_per_country[\"Total_Games\"]=olympic.groupby(\"Country\").apply(lambda x : x.Game.nunique())"
   ]
  },
  {
   "cell_type": "code",
   "execution_count": null,
   "metadata": {},
   "outputs": [],
   "source": []
  },
  {
   "cell_type": "code",
   "execution_count": 101,
   "metadata": {},
   "outputs": [],
   "source": [
    "# the (Population , GDP per Capita ) columns they are object\n",
    "# must be intger or float\n",
    "medal_per_country.Population.unique()"
   ]
  },
  {
   "cell_type": "code",
   "execution_count": 102,
   "metadata": {},
   "outputs": [],
   "source": [
    "medal_per_country[medal_per_country.Population.isna()]"
   ]
  },
  {
   "cell_type": "code",
   "execution_count": 103,
   "metadata": {},
   "outputs": [],
   "source": [
    "medal_per_country[\"Population\"] = medal_per_country[\"Population\"].apply(lambda x : x.replace(\",\",\"\") if isinstance(x,str) else x).astype(float)"
   ]
  },
  {
   "cell_type": "code",
   "execution_count": 104,
   "metadata": {},
   "outputs": [],
   "source": [
    "medal_per_country[\"GDP per Capita\"] = medal_per_country[\"GDP per Capita\"].apply(lambda x : x.replace(\",\",\"\") if isinstance(x,str) else x ).astype(float)"
   ]
  },
  {
   "cell_type": "code",
   "execution_count": 105,
   "metadata": {},
   "outputs": [],
   "source": [
    "medal_per_country"
   ]
  },
  {
   "cell_type": "code",
   "execution_count": 106,
   "metadata": {},
   "outputs": [],
   "source": [
    "medal_per_country.corr(method=\"pearson\")"
   ]
  },
  {
   "cell_type": "markdown",
   "metadata": {},
   "source": [
    "### In a correlation value between -1 / 1, -1 indicates a negative correlation, 1 indicates a positive correlation, and 0 indicates no correlation."
   ]
  },
  {
   "cell_type": "code",
   "execution_count": 107,
   "metadata": {},
   "outputs": [],
   "source": [
    "# we will use spearman method in correlation beacuse it culculate the rank first then the correlation\n",
    "medal_per_country.corr(method=\"spearman\")"
   ]
  },
  {
   "cell_type": "code",
   "execution_count": 108,
   "metadata": {},
   "outputs": [],
   "source": [
    "# we can do it in deffrent way\n",
    "medal_per_country.rank(ascending=False).corr(method=\"pearson\")"
   ]
  },
  {
   "cell_type": "code",
   "execution_count": 109,
   "metadata": {},
   "outputs": [],
   "source": [
    "# as we see it will be the same correlation"
   ]
  },
  {
   "cell_type": "markdown",
   "metadata": {},
   "source": [
    "## 1.Hypothesis : There is no relationship between Total Medals and Population ?"
   ]
  },
  {
   "cell_type": "code",
   "execution_count": 110,
   "metadata": {},
   "outputs": [],
   "source": [
    "import scipy.stats as stats"
   ]
  },
  {
   "cell_type": "code",
   "execution_count": 111,
   "metadata": {},
   "outputs": [],
   "source": [
    "stats.spearmanr(medal_per_country.Total,medal_per_country.Population ,\n",
    "               nan_policy=\"omit\")"
   ]
  },
  {
   "cell_type": "code",
   "execution_count": 112,
   "metadata": {},
   "outputs": [],
   "source": [
    "result , p_value=stats.spearmanr(medal_per_country.Total,medal_per_country.Population ,\n",
    "               nan_policy=\"omit\")"
   ]
  },
  {
   "cell_type": "code",
   "execution_count": 113,
   "metadata": {},
   "outputs": [],
   "source": [
    "result , round(p_value)"
   ]
  },
  {
   "cell_type": "code",
   "execution_count": 114,
   "metadata": {},
   "outputs": [],
   "source": [
    "# Print the result\n",
    "print(f\"The Spearman correlation between total medals and Population is {result:.2f}\")\n",
    "print(f\"The p-value is {p_value:.2f}\")\n",
    "\n",
    "# Determine the significance level\n",
    "alpha = 0.05\n",
    "\n",
    "# Check if the correlation is statistically significant\n",
    "if p_value < alpha:\n",
    "    print(\"The correlation is statistically significant.\")\n",
    "else:\n",
    "    print(\"The correlation is not statistically significant.\")"
   ]
  },
  {
   "cell_type": "markdown",
   "metadata": {},
   "source": [
    "### Reject Hypothesis: There is a significant (positive) relationship between total medals and Population, so the larger the country the more successful in the Olympic games."
   ]
  },
  {
   "cell_type": "code",
   "execution_count": null,
   "metadata": {},
   "outputs": [],
   "source": []
  },
  {
   "cell_type": "markdown",
   "metadata": {},
   "source": [
    "## 2.Hypothesis : There is no relationship between Total Medals and GDP per capita ?"
   ]
  },
  {
   "cell_type": "code",
   "execution_count": 115,
   "metadata": {},
   "outputs": [],
   "source": [
    "GDP = medal_per_country[\"GDP per Capita\"]\n",
    "total = medal_per_country[\"Total\"]"
   ]
  },
  {
   "cell_type": "code",
   "execution_count": 116,
   "metadata": {},
   "outputs": [],
   "source": [
    "result , p_value = stats.spearmanr(total,GDP,nan_policy=\"omit\")"
   ]
  },
  {
   "cell_type": "code",
   "execution_count": 117,
   "metadata": {},
   "outputs": [],
   "source": [
    "result , round(p_value)"
   ]
  },
  {
   "cell_type": "code",
   "execution_count": 118,
   "metadata": {},
   "outputs": [],
   "source": [
    "# Print the result\n",
    "print(f\"The Spearman correlation between total medals and GDP per capita is {result:.2f}\")\n",
    "print(f\"The p-value is {p_value:.2f}\")\n",
    "\n",
    "# Determine the significance level\n",
    "alpha = 0.05\n",
    "\n",
    "# Check if the correlation is statistically significant\n",
    "if p_value < alpha:\n",
    "    print(\"The correlation is statistically significant.\")\n",
    "else:\n",
    "    print(\"The correlation is not statistically significant.\")"
   ]
  },
  {
   "cell_type": "markdown",
   "metadata": {},
   "source": [
    "### Reject Hypothesis: There is a significant (positive) relationship between total medals and GDP per capita"
   ]
  },
  {
   "cell_type": "code",
   "execution_count": null,
   "metadata": {},
   "outputs": [],
   "source": []
  },
  {
   "cell_type": "markdown",
   "metadata": {},
   "source": [
    "### 3.Hypothesis : There is no relationship between Total Medals and Total games ?"
   ]
  },
  {
   "cell_type": "code",
   "execution_count": 119,
   "metadata": {},
   "outputs": [],
   "source": [
    "total_games = medal_per_country[\"Total_Games\"]\n",
    "total_medals= medal_per_country[\"Total\"]"
   ]
  },
  {
   "cell_type": "code",
   "execution_count": 120,
   "metadata": {},
   "outputs": [],
   "source": [
    "relation , p_value = stats.spearmanr(total_medals,total_games , nan_policy=\"omit\")"
   ]
  },
  {
   "cell_type": "code",
   "execution_count": 121,
   "metadata": {},
   "outputs": [],
   "source": [
    "relation , p_value"
   ]
  },
  {
   "cell_type": "code",
   "execution_count": 122,
   "metadata": {},
   "outputs": [],
   "source": [
    "# Print the result\n",
    "print(f\"The Spearman correlation between total medals and total games is {relation:.2f}\")\n",
    "print(f\"The p-value is {p_value:.2f}\")\n",
    "\n",
    "# Determine the significance level\n",
    "alpha = 0.05\n",
    "\n",
    "# Check if the correlation is statistically significant\n",
    "if p_value < alpha:\n",
    "    print(\"The correlation is statistically significant.\")\n",
    "else:\n",
    "    print(\"The correlation is not statistically significant.\")"
   ]
  },
  {
   "cell_type": "markdown",
   "metadata": {},
   "source": [
    "### Reject Hypothesis: There is a significant (positive) relationship between total medals and total games"
   ]
  },
  {
   "cell_type": "code",
   "execution_count": null,
   "metadata": {},
   "outputs": [],
   "source": []
  },
  {
   "cell_type": "code",
   "execution_count": 123,
   "metadata": {},
   "outputs": [],
   "source": [
    "olympic.head()"
   ]
  },
  {
   "cell_type": "code",
   "execution_count": 124,
   "metadata": {},
   "outputs": [],
   "source": [
    "sum_vs_win = pd.crosstab(olympic.Country,olympic.Edition)\n",
    "sum_vs_win"
   ]
  },
  {
   "cell_type": "code",
   "execution_count": 125,
   "metadata": {},
   "outputs": [],
   "source": [
    "men_vs_women = pd.crosstab(olympic.Country,olympic.Gender)\n",
    "men_vs_women"
   ]
  },
  {
   "cell_type": "code",
   "execution_count": 126,
   "metadata": {},
   "outputs": [],
   "source": [
    "medal_by_cat = pd.concat([sum_vs_win,men_vs_women],axis=1)\n",
    "medal_by_cat"
   ]
  },
  {
   "cell_type": "code",
   "execution_count": 127,
   "metadata": {},
   "outputs": [],
   "source": [
    "medal_by_cat[\"total\"]= medal_by_cat.summer + medal_by_cat.winter"
   ]
  },
  {
   "cell_type": "code",
   "execution_count": 128,
   "metadata": {},
   "outputs": [],
   "source": [
    "medal_by_cat"
   ]
  },
  {
   "cell_type": "code",
   "execution_count": 129,
   "metadata": {},
   "outputs": [],
   "source": [
    "medal_by_cat.sort_values(by=[\"total\"],ascending=False,inplace=True)"
   ]
  },
  {
   "cell_type": "code",
   "execution_count": 130,
   "metadata": {},
   "outputs": [],
   "source": [
    "medal_by_cat"
   ]
  },
  {
   "cell_type": "code",
   "execution_count": 131,
   "metadata": {},
   "outputs": [],
   "source": [
    "ranks = medal_by_cat.rank(ascending=False)"
   ]
  },
  {
   "cell_type": "code",
   "execution_count": 132,
   "metadata": {},
   "outputs": [],
   "source": [
    "ranks"
   ]
  },
  {
   "cell_type": "code",
   "execution_count": 133,
   "metadata": {},
   "outputs": [],
   "source": [
    "top_50 =ranks.head(50)"
   ]
  },
  {
   "cell_type": "code",
   "execution_count": 134,
   "metadata": {},
   "outputs": [],
   "source": [
    "plt.figure(figsize=(40,10))\n",
    "sns.heatmap(top_50.T,cmap=\"RdYlGn_r\",annot=True,fmt=\"2.0f\")\n",
    "plt.show()"
   ]
  },
  {
   "cell_type": "code",
   "execution_count": 135,
   "metadata": {},
   "outputs": [],
   "source": [
    "top_50.sort_values(\"winter\")"
   ]
  },
  {
   "cell_type": "code",
   "execution_count": 136,
   "metadata": {},
   "outputs": [],
   "source": [
    "# top country in winter \n",
    "plt.figure(figsize=(40,10))\n",
    "sns.heatmap(top_50.sort_values(\"winter\").T,cmap=\"RdYlGn_r\",annot=True,fmt=\"2.0f\")\n",
    "plt.show()"
   ]
  },
  {
   "cell_type": "code",
   "execution_count": 137,
   "metadata": {},
   "outputs": [],
   "source": [
    "# top country in summer \n",
    "plt.figure(figsize=(40,10))\n",
    "sns.heatmap(top_50.sort_values(\"summer\").T,cmap=\"RdYlGn_r\",annot=True,fmt=\"2.0f\")\n",
    "plt.show()"
   ]
  },
  {
   "cell_type": "code",
   "execution_count": 138,
   "metadata": {},
   "outputs": [],
   "source": [
    "# we want to see what the country success in winter and summer\n",
    "top_50.summer.sub(top_50.winter).sort_values()"
   ]
  },
  {
   "cell_type": "code",
   "execution_count": 139,
   "metadata": {},
   "outputs": [],
   "source": [
    "rank_diff =top_50.summer.sub(top_50.winter).sort_values().to_frame()"
   ]
  },
  {
   "cell_type": "code",
   "execution_count": 140,
   "metadata": {},
   "outputs": [],
   "source": [
    "rank_diff"
   ]
  },
  {
   "cell_type": "code",
   "execution_count": 141,
   "metadata": {},
   "outputs": [],
   "source": [
    "plt.figure(figsize=(35,5))\n",
    "sns.heatmap(rank_diff.T,cmap=\"RdBu\",annot=True,fmt=\"2.0f\",center=0)\n",
    "plt.savefig(\"heatmap_by_edition\")\n",
    "plt.show()"
   ]
  },
  {
   "cell_type": "code",
   "execution_count": 142,
   "metadata": {},
   "outputs": [],
   "source": [
    "# top country by women\n",
    "top_50.sort_values(\"Women\")"
   ]
  },
  {
   "cell_type": "code",
   "execution_count": 143,
   "metadata": {},
   "outputs": [],
   "source": [
    "plt.figure(figsize=(50,10))\n",
    "sns.heatmap(top_50.sort_values(by=\"Women\").T,annot=True,cmap=\"RdYlGn_r\",fmt=\"2.0f\")\n",
    "plt.show()"
   ]
  },
  {
   "cell_type": "code",
   "execution_count": 144,
   "metadata": {},
   "outputs": [],
   "source": [
    "# top country by men\n",
    "top_50.sort_values(by=\"Men\")"
   ]
  },
  {
   "cell_type": "code",
   "execution_count": 145,
   "metadata": {},
   "outputs": [],
   "source": [
    "plt.figure(figsize=(50,10))\n",
    "sns.heatmap(top_50.sort_values(by=\"Men\").T,annot=True,fmt=\"2.0f\",cmap=\"RdYlGn_r\")\n",
    "plt.show()"
   ]
  },
  {
   "cell_type": "code",
   "execution_count": 146,
   "metadata": {},
   "outputs": [],
   "source": [
    "# Men Vs Women\n",
    "top_50.Men.sub(top_50.Women).sort_values()"
   ]
  },
  {
   "cell_type": "code",
   "execution_count": 147,
   "metadata": {},
   "outputs": [],
   "source": [
    "rank_diff2 =top_50.Men.sub(top_50.Women).sort_values().to_frame()\n",
    "rank_diff2"
   ]
  },
  {
   "cell_type": "code",
   "execution_count": 148,
   "metadata": {},
   "outputs": [],
   "source": [
    "plt.figure(figsize=(35,5))\n",
    "sns.heatmap(rank_diff2.T,cmap=\"RdBu\",annot=True,fmt=\"2.0f\",center=0)\n",
    "plt.savefig(\"heatmap_by_gender\")\n",
    "plt.show()"
   ]
  },
  {
   "cell_type": "code",
   "execution_count": null,
   "metadata": {},
   "outputs": [],
   "source": []
  },
  {
   "cell_type": "markdown",
   "metadata": {},
   "source": [
    "##  Do Traditions Matter ?"
   ]
  },
  {
   "cell_type": "code",
   "execution_count": 149,
   "metadata": {},
   "outputs": [],
   "source": [
    "olympic.head()"
   ]
  },
  {
   "cell_type": "code",
   "execution_count": 150,
   "metadata": {},
   "outputs": [],
   "source": [
    "olympic.Sport.value_counts()"
   ]
  },
  {
   "cell_type": "code",
   "execution_count": 151,
   "metadata": {},
   "outputs": [],
   "source": [
    "sports = olympic.Sport.value_counts().index\n",
    "sports"
   ]
  },
  {
   "cell_type": "code",
   "execution_count": 152,
   "metadata": {},
   "outputs": [],
   "source": [
    "# bring the top20 country\n",
    "top20=olympic.Country.value_counts().head(20).index\n",
    "top20"
   ]
  },
  {
   "cell_type": "code",
   "execution_count": 153,
   "metadata": {},
   "outputs": [],
   "source": [
    "# we will bring the country crosstab with sport\n",
    "by_sport= pd.crosstab(olympic.Country , olympic.Sport)\n",
    "by_sport"
   ]
  },
  {
   "cell_type": "code",
   "execution_count": 154,
   "metadata": {},
   "outputs": [],
   "source": [
    "# transfare the frame to rank\n",
    "by_sport = by_sport.rank(ascending=False,method=\"average\")\n",
    "by_sport"
   ]
  },
  {
   "cell_type": "code",
   "execution_count": 155,
   "metadata": {},
   "outputs": [],
   "source": [
    "# now filter the top20 country by spoerts\n",
    "by_sport = by_sport.loc[top20,sports]\n",
    "by_sport"
   ]
  },
  {
   "cell_type": "code",
   "execution_count": 156,
   "metadata": {},
   "outputs": [],
   "source": [
    "plt.figure(figsize=(30,10))\n",
    "sns.heatmap(data=by_sport,cmap=\"RdYlGn_r\",linewidths=1,vmin=1,vmax=10)\n",
    "plt.savefig(\"heatmap_by_sport\")\n",
    "plt.show()"
   ]
  },
  {
   "cell_type": "code",
   "execution_count": 157,
   "metadata": {},
   "outputs": [],
   "source": [
    "# we can see here the United States the top country in first 3 sports (Aquatics , Athletics ,Rowing)\n",
    "# the United Kingdom is the top3 ( Athletics ,Rowing)\n",
    "# the Soviet Union is the top1( Gymnastics)\n",
    "# the Italy is the top1( Fencing)\n",
    "# the Canada is the top1( Ice Hockey)\n",
    "# so this indicater for the Tradition is matter"
   ]
  }
 ],
 "metadata": {
  "kernelspec": {
   "display_name": "Python 3 (ipykernel)",
   "language": "python",
   "name": "python3"
  },
  "language_info": {
   "codemirror_mode": {
    "name": "ipython",
    "version": 3
   },
   "file_extension": ".py",
   "mimetype": "text/x-python",
   "name": "python",
   "nbconvert_exporter": "python",
   "pygments_lexer": "ipython3",
   "version": "3.11.3"
  }
 },
 "nbformat": 4,
 "nbformat_minor": 4
}
